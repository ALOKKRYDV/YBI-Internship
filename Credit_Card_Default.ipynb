{
  "nbformat": 4,
  "nbformat_minor": 0,
  "metadata": {
    "colab": {
      "provenance": [],
      "authorship_tag": "ABX9TyM+IoxT+o2Q8VWB5osaT75I",
      "include_colab_link": true
    },
    "kernelspec": {
      "name": "python3",
      "display_name": "Python 3"
    },
    "language_info": {
      "name": "python"
    }
  },
  "cells": [
    {
      "cell_type": "markdown",
      "metadata": {
        "id": "view-in-github",
        "colab_type": "text"
      },
      "source": [
        "<a href=\"https://colab.research.google.com/github/ALOKKRYDV/YBI-Internship/blob/main/Credit_Card_Default.ipynb\" target=\"_parent\"><img src=\"https://colab.research.google.com/assets/colab-badge.svg\" alt=\"Open In Colab\"/></a>"
      ]
    },
    {
      "cell_type": "code",
      "source": [
        "# Step 1: Install Gradio and matplotlib\n",
        "!pip install gradio matplotlib --quiet\n",
        "\n",
        "# Step 2: Import Libraries\n",
        "import pandas as pd\n",
        "import matplotlib.pyplot as plt\n",
        "from sklearn.model_selection import train_test_split\n",
        "from sklearn.linear_model import LogisticRegression\n",
        "import gradio as gr\n",
        "import numpy as np\n",
        "\n",
        "# Step 3: Load Dataset\n",
        "url = 'https://github.com/ybifoundation/Dataset/raw/main/Credit%20Default.csv'\n",
        "default = pd.read_csv(url)\n",
        "\n",
        "# Step 4: Define Features and Target\n",
        "X = default.drop('Default', axis=1)\n",
        "y = default['Default']\n",
        "\n",
        "# Step 5: Train Test Split\n",
        "X_train, X_test, y_train, y_test = train_test_split(X, y, train_size=0.7, random_state=2529)\n",
        "\n",
        "# Step 6: Train Model\n",
        "model = LogisticRegression()\n",
        "model.fit(X_train, y_train)\n",
        "\n",
        "# Step 7: Prediction Function with Graph\n",
        "def predict_with_graph(income, age, loan):\n",
        "    loan_to_income = loan / income if income != 0 else 0\n",
        "    input_data = [[income, age, loan, loan_to_income]]\n",
        "    prediction = model.predict(input_data)[0]\n",
        "    probability = model.predict_proba(input_data)[0][1]\n",
        "\n",
        "    # Create graph\n",
        "    fig, ax = plt.subplots(figsize=(6, 1.5))\n",
        "    ax.barh(['Default Probability'], [probability], color='crimson' if prediction == 1 else 'green')\n",
        "    ax.set_xlim(0, 1)\n",
        "    ax.set_xlabel('Probability')\n",
        "    ax.set_title('Risk of Default')\n",
        "    plt.tight_layout()\n",
        "\n",
        "    # Save plot to image\n",
        "    img_path = \"/tmp/default_risk.png\"\n",
        "    plt.savefig(img_path)\n",
        "    plt.close()\n",
        "\n",
        "    # Text result\n",
        "    result = \"🔴 Will Default\" if prediction == 1 else \"🟢 Will Not Default\"\n",
        "    message = f\"Prediction: {result}\\nProbability of Default: {probability:.2%}\"\n",
        "    return message, img_path\n",
        "\n",
        "# Step 8: Gradio Interface\n",
        "interface = gr.Interface(\n",
        "    fn=predict_with_graph,\n",
        "    inputs=[\n",
        "        gr.Number(label=\"Income\", value=45000),\n",
        "        gr.Number(label=\"Age\", value=35),\n",
        "        gr.Number(label=\"Loan Amount\", value=5000),\n",
        "    ],\n",
        "    outputs=[\n",
        "        gr.Textbox(label=\"Prediction Result\"),\n",
        "        gr.Image(label=\"Default Risk Graph\")\n",
        "    ],\n",
        "    title=\"📉 Credit Card Default Predictor with Risk Graph\",\n",
        "    description=\"Enter income, age, and loan amount to predict if a customer will default, along with a visual risk level.\",\n",
        "    live=True,\n",
        "    theme=\"default\"\n",
        ")\n",
        "\n",
        "# Step 9: Launch App\n",
        "interface.launch(debug=False)\n"
      ],
      "metadata": {
        "colab": {
          "base_uri": "https://localhost:8080/",
          "height": 784
        },
        "id": "SLmA3icOJd2l",
        "outputId": "3ac5e87e-6004-4722-cd13-92742a9115a8"
      },
      "execution_count": 5,
      "outputs": [
        {
          "output_type": "stream",
          "name": "stderr",
          "text": [
            "/usr/local/lib/python3.11/dist-packages/sklearn/linear_model/_logistic.py:465: ConvergenceWarning: lbfgs failed to converge (status=1):\n",
            "STOP: TOTAL NO. OF ITERATIONS REACHED LIMIT.\n",
            "\n",
            "Increase the number of iterations (max_iter) or scale the data as shown in:\n",
            "    https://scikit-learn.org/stable/modules/preprocessing.html\n",
            "Please also refer to the documentation for alternative solver options:\n",
            "    https://scikit-learn.org/stable/modules/linear_model.html#logistic-regression\n",
            "  n_iter_i = _check_optimize_result(\n"
          ]
        },
        {
          "output_type": "stream",
          "name": "stdout",
          "text": [
            "It looks like you are running Gradio on a hosted Jupyter notebook, which requires `share=True`. Automatically setting `share=True` (you can turn this off by setting `share=False` in `launch()` explicitly).\n",
            "\n",
            "Colab notebook detected. To show errors in colab notebook, set debug=True in launch()\n",
            "* Running on public URL: https://83457f309b1fb0bff7.gradio.live\n",
            "\n",
            "This share link expires in 1 week. For free permanent hosting and GPU upgrades, run `gradio deploy` from the terminal in the working directory to deploy to Hugging Face Spaces (https://huggingface.co/spaces)\n"
          ]
        },
        {
          "output_type": "display_data",
          "data": {
            "text/plain": [
              "<IPython.core.display.HTML object>"
            ],
            "text/html": [
              "<div><iframe src=\"https://83457f309b1fb0bff7.gradio.live\" width=\"100%\" height=\"500\" allow=\"autoplay; camera; microphone; clipboard-read; clipboard-write;\" frameborder=\"0\" allowfullscreen></iframe></div>"
            ]
          },
          "metadata": {}
        },
        {
          "output_type": "execute_result",
          "data": {
            "text/plain": []
          },
          "metadata": {},
          "execution_count": 5
        }
      ]
    }
  ]
}